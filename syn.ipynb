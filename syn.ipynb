{
 "cells": [
  {
   "cell_type": "code",
   "execution_count": 10,
   "metadata": {},
   "outputs": [],
   "source": [
    "import pandas as pd\n",
    "import numpy as np\n",
    "import os\n",
    "import random\n",
    "from faker import Faker\n",
    "from faker import Factory"
   ]
  },
  {
   "cell_type": "code",
   "execution_count": 12,
   "metadata": {},
   "outputs": [],
   "source": [
    "#Version-1\n",
    "from faker.providers import BaseProvider\n",
    "from faker import Factory\n",
    "\n",
    "class CustomProvider(BaseProvider):\n",
    "    __provider__ = \"personalia\"\n",
    "    \n",
    "    def personalia(self):\n",
    "        gender = self.random_element([\"F\", \"M\"])\n",
    "        if gender == \"M\": \n",
    "            first_name = self.generator.first_name_male()\n",
    "            gender=\"Male\"\n",
    "        else:\n",
    "             first_name = self.generator.first_name_female()\n",
    "             gender=\"Female\"\n",
    "        last_name = self.generator.last_name()\n",
    "        email_address = f\"{first_name.lower()}.{last_name.lower()}@{self.generator.domain_name()}\"\n",
    "        rno=random.randint(pow(10, 6), pow(10, 7) - 1)\n",
    "        return {\n",
    "          \"RegNumber\": rno,\n",
    "          \"First name\": first_name,\n",
    "          \"Last Name\": last_name,\n",
    "          \"E-mail\": email_address,\n",
    "          \"Gender\": gender\n",
    "        }\n",
    "        \n"
   ]
  },
  {
   "cell_type": "code",
   "execution_count": 13,
   "metadata": {},
   "outputs": [],
   "source": [
    "fake = Factory.create(\"en_IN\")\n",
    "fake.add_provider(CustomProvider)\n",
    "\n",
    "\n",
    "def Insert(data):\n",
    "  \n",
    "  print(\"Hello\")\n",
    "  print('Enter First name:')\n",
    "  Fname = input()\n",
    "  print('Enter Last name:')\n",
    "  Lname = input()\n",
    "  print('Enter E-mail:')\n",
    "  mail = input()\n",
    "  print('Enter Gender:')\n",
    "  gender = input()\n",
    "  rno=random.randint(pow(10, 6), pow(10, 7) - 1)\n",
    "  data.append({\n",
    "          \"RegNumber\": rno,\n",
    "          \"First name\": Fname,\n",
    "          \"Last Name\": Lname,\n",
    "          \"E-mail\": mail,\n",
    "          \"Gender\": gender\n",
    "        })\n",
    "  data1=pd.DataFrame.from_dict(data, orient='columns')\n",
    "  data1.head()\n",
    "  return data\n",
    "def Search(data):\n",
    "  #print(\"Hello from a function\")\n",
    "  \n",
    "  data1=pd.DataFrame.from_dict(data, orient='columns')\n",
    "  print('Enter Register Number to Search:')\n",
    "  regnum = input()\n",
    "  new=data1[data1['RegNumber']==int(regnum)]\n",
    "  print(new)\n",
    "\n",
    "def Display(data):\n",
    "  data1=pd.DataFrame.from_dict(data, orient='columns')\n",
    "  print(data1.head())"
   ]
  },
  {
   "cell_type": "code",
   "execution_count": 14,
   "metadata": {},
   "outputs": [
    {
     "name": "stdout",
     "output_type": "stream",
     "text": [
      "Enter Number of Students:\n"
     ]
    },
    {
     "name": "stdout",
     "output_type": "stream",
     "text": [
      "Do you want to insert Student(Y/N)\n",
      "   RegNumber First name Last Name                        E-mail  Gender\n",
      "0    8974457       Sara      Deol  sara.deol@wali-rajagopal.net  Female\n",
      "1    9156214      Amani    Vaidya     amani.vaidya@chandran.com    Male\n",
      "2    5365183      Renee      Mani         renee.mani@sarkar.com    Male\n",
      "Enter Students Details to Search\n",
      "Enter Register Number to Search:\n",
      "   RegNumber First name Last Name                        E-mail  Gender\n",
      "0    8974457       Sara      Deol  sara.deol@wali-rajagopal.net  Female\n"
     ]
    }
   ],
   "source": [
    "#Input-Number of Records and generate Database\n",
    "print('Enter Number of Students:')\n",
    "x = input()\n",
    "data=[]\n",
    "for i in range(int(x)):\n",
    "    data.append(fake.personalia())\n",
    "\n",
    "while True:\n",
    "        print(\"Do you want to insert Student(Y/N)\")\n",
    "        choice = input('continue?')\n",
    "        if choice =='Y' or choice =='y':\n",
    "            Insert(data)\n",
    "            Display(data)\n",
    "            break\n",
    "        else:\n",
    "            Display(data)\n",
    "            print(\"Enter Students Details to Search\")\n",
    "            Search(data)\n",
    "            break\n",
    "#data1=pd.DataFrame.from_dict(data, orient='columns')\n",
    "#data1.head()"
   ]
  }
 ],
 "metadata": {
  "kernelspec": {
   "display_name": "Python 3",
   "language": "python",
   "name": "python3"
  },
  "language_info": {
   "codemirror_mode": {
    "name": "ipython",
    "version": 3
   },
   "file_extension": ".py",
   "mimetype": "text/x-python",
   "name": "python",
   "nbconvert_exporter": "python",
   "pygments_lexer": "ipython3",
   "version": "3.11.4"
  }
 },
 "nbformat": 4,
 "nbformat_minor": 2
}
